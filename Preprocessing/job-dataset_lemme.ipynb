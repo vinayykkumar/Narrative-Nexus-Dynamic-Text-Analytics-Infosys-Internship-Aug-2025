{
 "cells": [
  {
   "cell_type": "code",
   "execution_count": 1,
   "id": "734c372b-fc4f-4282-9ead-81ade71e90b4",
   "metadata": {},
   "outputs": [
    {
     "name": "stderr",
     "output_type": "stream",
     "text": [
      "[nltk_data] Downloading package stopwords to\n",
      "[nltk_data]     C:\\Users\\prana/nltk_data...\n",
      "[nltk_data]   Package stopwords is already up-to-date!\n",
      "[nltk_data] Downloading package punkt to C:\\Users\\prana/nltk_data...\n",
      "[nltk_data]   Package punkt is already up-to-date!\n",
      "[nltk_data] Downloading package wordnet to C:\\Users\\prana/nltk_data...\n",
      "[nltk_data]   Package wordnet is already up-to-date!\n"
     ]
    },
    {
     "data": {
      "text/plain": [
       "True"
      ]
     },
     "execution_count": 1,
     "metadata": {},
     "output_type": "execute_result"
    }
   ],
   "source": [
    "import pandas as pd   # For data manipulation\n",
    "import nltk           # For natural language processing\n",
    "import re             # For regular expressions (text cleaning)\n",
    "nltk.download('stopwords')  # Download common stopwords\n",
    "nltk.download('punkt')      # Download tokenizer models\n",
    "nltk.download('wordnet')    # Download WordNet lemmatizer data"
   ]
  },
  {
   "cell_type": "code",
   "execution_count": 2,
   "id": "b46189a4-a449-4069-b51b-b723d38377c9",
   "metadata": {},
   "outputs": [
    {
     "name": "stdout",
     "output_type": "stream",
     "text": [
      "   Unnamed: 0             Job Title  \\\n",
      "0           0     Flutter Developer   \n",
      "1           1      Django Developer   \n",
      "2           2      Machine Learning   \n",
      "3           3         iOS Developer   \n",
      "4           4  Full Stack Developer   \n",
      "\n",
      "                                     Job Description  \n",
      "0  We are looking for hire experts flutter develo...  \n",
      "1  PYTHON/DJANGO (Developer/Lead) - Job Code(PDJ ...  \n",
      "2  Data Scientist (Contractor)\\n\\nBangalore, IN\\n...  \n",
      "3  JOB DESCRIPTION:\\n\\nStrong framework outside o...  \n",
      "4  job responsibility full stack engineer – react...  \n"
     ]
    }
   ],
   "source": [
    "df = pd.read_csv(r'C:\\Users\\prana\\OneDrive\\Desktop\\infosys\\job_title_des.csv')\n",
    "print(df.head()) \n"
   ]
  },
  {
   "cell_type": "code",
   "execution_count": 3,
   "id": "c0f0963a-6573-4fcc-9b99-96f0245afe18",
   "metadata": {},
   "outputs": [
    {
     "data": {
      "text/html": [
       "<div>\n",
       "<style scoped>\n",
       "    .dataframe tbody tr th:only-of-type {\n",
       "        vertical-align: middle;\n",
       "    }\n",
       "\n",
       "    .dataframe tbody tr th {\n",
       "        vertical-align: top;\n",
       "    }\n",
       "\n",
       "    .dataframe thead th {\n",
       "        text-align: right;\n",
       "    }\n",
       "</style>\n",
       "<table border=\"1\" class=\"dataframe\">\n",
       "  <thead>\n",
       "    <tr style=\"text-align: right;\">\n",
       "      <th></th>\n",
       "      <th>Unnamed: 0</th>\n",
       "      <th>Job Title</th>\n",
       "      <th>Job Description</th>\n",
       "      <th>text_lower_JD</th>\n",
       "    </tr>\n",
       "  </thead>\n",
       "  <tbody>\n",
       "    <tr>\n",
       "      <th>0</th>\n",
       "      <td>0</td>\n",
       "      <td>Flutter Developer</td>\n",
       "      <td>We are looking for hire experts flutter develo...</td>\n",
       "      <td>we are looking for hire experts flutter develo...</td>\n",
       "    </tr>\n",
       "    <tr>\n",
       "      <th>1</th>\n",
       "      <td>1</td>\n",
       "      <td>Django Developer</td>\n",
       "      <td>PYTHON/DJANGO (Developer/Lead) - Job Code(PDJ ...</td>\n",
       "      <td>python/django (developer/lead) - job code(pdj ...</td>\n",
       "    </tr>\n",
       "    <tr>\n",
       "      <th>2</th>\n",
       "      <td>2</td>\n",
       "      <td>Machine Learning</td>\n",
       "      <td>Data Scientist (Contractor)\\n\\nBangalore, IN\\n...</td>\n",
       "      <td>data scientist (contractor)\\n\\nbangalore, in\\n...</td>\n",
       "    </tr>\n",
       "    <tr>\n",
       "      <th>3</th>\n",
       "      <td>3</td>\n",
       "      <td>iOS Developer</td>\n",
       "      <td>JOB DESCRIPTION:\\n\\nStrong framework outside o...</td>\n",
       "      <td>job description:\\n\\nstrong framework outside o...</td>\n",
       "    </tr>\n",
       "    <tr>\n",
       "      <th>4</th>\n",
       "      <td>4</td>\n",
       "      <td>Full Stack Developer</td>\n",
       "      <td>job responsibility full stack engineer – react...</td>\n",
       "      <td>job responsibility full stack engineer – react...</td>\n",
       "    </tr>\n",
       "  </tbody>\n",
       "</table>\n",
       "</div>"
      ],
      "text/plain": [
       "   Unnamed: 0             Job Title  \\\n",
       "0           0     Flutter Developer   \n",
       "1           1      Django Developer   \n",
       "2           2      Machine Learning   \n",
       "3           3         iOS Developer   \n",
       "4           4  Full Stack Developer   \n",
       "\n",
       "                                     Job Description  \\\n",
       "0  We are looking for hire experts flutter develo...   \n",
       "1  PYTHON/DJANGO (Developer/Lead) - Job Code(PDJ ...   \n",
       "2  Data Scientist (Contractor)\\n\\nBangalore, IN\\n...   \n",
       "3  JOB DESCRIPTION:\\n\\nStrong framework outside o...   \n",
       "4  job responsibility full stack engineer – react...   \n",
       "\n",
       "                                       text_lower_JD  \n",
       "0  we are looking for hire experts flutter develo...  \n",
       "1  python/django (developer/lead) - job code(pdj ...  \n",
       "2  data scientist (contractor)\\n\\nbangalore, in\\n...  \n",
       "3  job description:\\n\\nstrong framework outside o...  \n",
       "4  job responsibility full stack engineer – react...  "
      ]
     },
     "execution_count": 3,
     "metadata": {},
     "output_type": "execute_result"
    }
   ],
   "source": [
    "df[\"text_lower_JD\"] = df[\"Job Description\"].str.lower()\n",
    "df.head()\n"
   ]
  },
  {
   "cell_type": "code",
   "execution_count": 4,
   "id": "d4106d5c-ed0a-43ce-bbb8-c13cb07e48b0",
   "metadata": {},
   "outputs": [
    {
     "name": "stdout",
     "output_type": "stream",
     "text": [
      "                                       text_lower_JD  \\\n",
      "0  we are looking for hire experts flutter develo...   \n",
      "1  python/django (developer/lead) - job code(pdj ...   \n",
      "2  data scientist (contractor)\\n\\nbangalore, in\\n...   \n",
      "3  job description:\\n\\nstrong framework outside o...   \n",
      "4  job responsibility full stack engineer – react...   \n",
      "\n",
      "                                       text_wo_punct  \n",
      "0  we are looking for hire experts flutter develo...  \n",
      "1  pythondjango developerlead  job codepdj  04\\ns...  \n",
      "2  data scientist contractor\\n\\nbangalore in\\n\\nr...  \n",
      "3  job description\\n\\nstrong framework outside of...  \n",
      "4  job responsibility full stack engineer – react...  \n"
     ]
    }
   ],
   "source": [
    "import string\n",
    "\n",
    "# Define which punctuation to remove (all standard punctuation)\n",
    "PUNCT_TO_REMOVE = string.punctuation\n",
    "\n",
    "# Custom function to remove punctuation\n",
    "def remove_punctuation(text):\n",
    "    return text.translate(str.maketrans('', '', PUNCT_TO_REMOVE))\n",
    "\n",
    "# Apply the function to the column 'text_lower_JD' and create a new column\n",
    "df[\"text_wo_punct\"] = df[\"text_lower_JD\"].apply(lambda text: remove_punctuation(str(text)))\n",
    "\n",
    "# View first rows to verify\n",
    "print(df[[\"text_lower_JD\", \"text_wo_punct\"]].head())"
   ]
  },
  {
   "cell_type": "code",
   "execution_count": 5,
   "id": "b41e1e55-dd13-473e-9a94-bf8c2847bbb8",
   "metadata": {},
   "outputs": [
    {
     "name": "stdout",
     "output_type": "stream",
     "text": [
      "                                       text_wo_punct  \\\n",
      "0  we are looking for hire experts flutter develo...   \n",
      "1  pythondjango developerlead  job codepdj  04\\ns...   \n",
      "2  data scientist contractor\\n\\nbangalore in\\n\\nr...   \n",
      "3  job description\\n\\nstrong framework outside of...   \n",
      "4  job responsibility full stack engineer – react...   \n",
      "\n",
      "                                        text_wo_stop  \n",
      "0  looking hire experts flutter developer eligibl...  \n",
      "1  pythondjango developerlead job codepdj 04 stro...  \n",
      "2  data scientist contractor bangalore responsibi...  \n",
      "3  job description strong framework outside ios a...  \n",
      "4  job responsibility full stack engineer – react...  \n"
     ]
    },
    {
     "name": "stderr",
     "output_type": "stream",
     "text": [
      "[nltk_data] Downloading package stopwords to\n",
      "[nltk_data]     C:\\Users\\prana/nltk_data...\n",
      "[nltk_data]   Package stopwords is already up-to-date!\n"
     ]
    }
   ],
   "source": [
    "from nltk.corpus import stopwords\n",
    "\n",
    "# Download stopwords if not already done\n",
    "import nltk\n",
    "nltk.download('stopwords')\n",
    "\n",
    "# Create a set of English stopwords\n",
    "STOPWORDS = set(stopwords.words('english'))\n",
    "\n",
    "# Define a function to remove stopwords from a text string\n",
    "def remove_stopwords(text):\n",
    "    return \" \".join([word for word in str(text).split() if word not in STOPWORDS])\n",
    "\n",
    "# Apply the function to the 'text_wo_punct' column and create a new column 'text_wo_stop'\n",
    "df[\"text_wo_stop\"] = df[\"text_wo_punct\"].apply(lambda text: remove_stopwords(text))\n",
    "\n",
    "# Display first few rows to verify\n",
    "print(df[[\"text_wo_punct\", \"text_wo_stop\"]].head())"
   ]
  },
  {
   "cell_type": "code",
   "execution_count": 6,
   "id": "631877fc-c934-4f30-a45b-ad6a2b87ce1b",
   "metadata": {},
   "outputs": [
    {
     "name": "stdout",
     "output_type": "stream",
     "text": [
      "Most frequent words: {'years', 'experience', 'work', 'data', 'design', 'development', 'skills', 'knowledge', 'team', 'software'}\n",
      "                                        text_wo_stop  \\\n",
      "0  looking hire experts flutter developer eligibl...   \n",
      "1  pythondjango developerlead job codepdj 04 stro...   \n",
      "2  data scientist contractor bangalore responsibi...   \n",
      "3  job description strong framework outside ios a...   \n",
      "4  job responsibility full stack engineer – react...   \n",
      "\n",
      "                                    text_wo_stopfreq  \n",
      "0  looking hire experts flutter developer eligibl...  \n",
      "1  pythondjango developerlead job codepdj 04 stro...  \n",
      "2  scientist contractor bangalore responsibilitie...  \n",
      "3  job description strong framework outside ios a...  \n",
      "4  job responsibility full stack engineer – react...  \n"
     ]
    }
   ],
   "source": [
    "from collections import Counter\n",
    "\n",
    "# Count word frequencies in the 'text_wo_stop' column\n",
    "cnt = Counter()\n",
    "for text in df[\"text_wo_stop\"].values:\n",
    "    for word in text.split():\n",
    "        cnt[word] += 1\n",
    "        \n",
    "# Get the top 10 most common words\n",
    "FREQWORDS = set([w for (w, wc) in cnt.most_common(10)])\n",
    "print(\"Most frequent words:\", FREQWORDS)\n",
    "\n",
    "# Function to remove the most frequent words from text\n",
    "def remove_freqwords(text):\n",
    "    return \" \".join([word for word in str(text).split() if word not in FREQWORDS])\n",
    "\n",
    "# Apply the function to remove these frequent words and create a new column\n",
    "df[\"text_wo_stopfreq\"] = df[\"text_wo_stop\"].apply(lambda text: remove_freqwords(text))\n",
    "\n",
    "# Display to verify the result\n",
    "print(df[[\"text_wo_stop\", \"text_wo_stopfreq\"]].head())\n",
    "\n"
   ]
  },
  {
   "cell_type": "code",
   "execution_count": 7,
   "id": "cdebe51c-bf72-41a5-8e70-c8e8e36427bc",
   "metadata": {},
   "outputs": [
    {
     "name": "stdout",
     "output_type": "stream",
     "text": [
      "Sampled rare words for inspection:\n",
      "['rolethis', 'orms', 'luke', 'locationtravel', '88', 'railsstrategyreportingautomation', 'gmlan', '·wordpress', 'githubbitbucket', 'techno', 'lastline', 'blockchains', 'suse', 'benefiteligible', 'hyperdimensions', 'segregation', 'createsoversees', 'oraclebased', 'clientproduct', 'streamed', 'orchestrators', 'savior', 'strapped', 'wwwconnellypartnerscom', 'projectsfeatures', 'fenestration', 'hinder', 'youâ€™ll', 'highlyscalableperformant', 'identificationfixing']\n"
     ]
    }
   ],
   "source": [
    "from collections import Counter\n",
    "import random\n",
    "\n",
    "# Count frequencies again on your chosen column (e.g., 'text_wo_stop')\n",
    "cnt = Counter()\n",
    "for text in df[\"text_wo_stop\"].values:\n",
    "    for word in text.split():\n",
    "        cnt[word] += 1\n",
    "\n",
    "# Get rare words occurring fewer than a threshold (e.g. 3 times)\n",
    "threshold = 3\n",
    "rare_words = [w for w, c in cnt.items() if c < threshold]\n",
    "\n",
    "# Randomly sample some rare words to inspect (set sample size)\n",
    "sample_size = 30\n",
    "sampled_rare_words = random.sample(rare_words, min(sample_size, len(rare_words)))\n",
    "print(\"Sampled rare words for inspection:\")\n",
    "print(sampled_rare_words)\n"
   ]
  },
  {
   "cell_type": "code",
   "execution_count": 8,
   "id": "12a0c8c7-4c7b-4844-a07b-933508c9cc5e",
   "metadata": {},
   "outputs": [],
   "source": [
    "whitelist = {\"flutter\", \"django\", \"react\", \"python\", \"contractor\", \"engineer\", \"kubernetes\", \"aws\", \"hadoop\",\"akamai\", \"galera\", \"unicloud™\", \"unirsm™\", \"ahmadabad\"}\n"
   ]
  },
  {
   "cell_type": "code",
   "execution_count": 9,
   "id": "e60550c8-0cde-44fe-96e7-552663e48bf7",
   "metadata": {},
   "outputs": [
    {
     "name": "stdout",
     "output_type": "stream",
     "text": [
      "                                        text_wo_stop  \\\n",
      "0  looking hire experts flutter developer eligibl...   \n",
      "1  pythondjango developerlead job codepdj 04 stro...   \n",
      "2  data scientist contractor bangalore responsibi...   \n",
      "3  job description strong framework outside ios a...   \n",
      "4  job responsibility full stack engineer – react...   \n",
      "\n",
      "                                    text_wo_stoprare  \n",
      "0  looking hire experts flutter developer eligibl...  \n",
      "1  pythondjango job 04 strong python experience a...  \n",
      "2  data scientist contractor bangalore responsibi...  \n",
      "3  job description strong framework outside ios a...  \n",
      "4  job responsibility full stack engineer – react...  \n"
     ]
    }
   ],
   "source": [
    "RAREWORDS = set(rare_words)\n",
    "\n",
    "def remove_rarewords_with_whitelist(text):\n",
    "    return \" \".join([word for word in str(text).split() if (word not in RAREWORDS or word in whitelist)])\n",
    "\n",
    "df[\"text_wo_stoprare\"] = df[\"text_wo_stop\"].apply(remove_rarewords_with_whitelist)\n",
    "\n",
    "# Verify results\n",
    "print(df[[\"text_wo_stop\", \"text_wo_stoprare\"]].head())"
   ]
  },
  {
   "cell_type": "code",
   "execution_count": 10,
   "id": "97217a46-ccc8-42c2-acad-daf22ebb88bf",
   "metadata": {},
   "outputs": [
    {
     "name": "stderr",
     "output_type": "stream",
     "text": [
      "[nltk_data] Downloading package averaged_perceptron_tagger to\n",
      "[nltk_data]     C:\\Users\\prana/nltk_data...\n",
      "[nltk_data]   Package averaged_perceptron_tagger is already up-to-\n",
      "[nltk_data]       date!\n"
     ]
    },
    {
     "data": {
      "text/plain": [
       "True"
      ]
     },
     "execution_count": 10,
     "metadata": {},
     "output_type": "execute_result"
    }
   ],
   "source": [
    "import nltk\n",
    "nltk.download('averaged_perceptron_tagger')\n"
   ]
  },
  {
   "cell_type": "code",
   "execution_count": 11,
   "id": "90af8910-5dc1-4767-8a8d-c09550da7b2a",
   "metadata": {},
   "outputs": [
    {
     "name": "stderr",
     "output_type": "stream",
     "text": [
      "[nltk_data] Downloading package averaged_perceptron_tagger to\n",
      "[nltk_data]     C:\\Users\\prana/nltk_data...\n",
      "[nltk_data]   Package averaged_perceptron_tagger is already up-to-\n",
      "[nltk_data]       date!\n",
      "[nltk_data] Downloading package tagsets to C:\\Users\\prana/nltk_data...\n",
      "[nltk_data]   Package tagsets is already up-to-date!\n"
     ]
    },
    {
     "data": {
      "text/plain": [
       "True"
      ]
     },
     "execution_count": 11,
     "metadata": {},
     "output_type": "execute_result"
    }
   ],
   "source": [
    "import nltk\n",
    "nltk.download('averaged_perceptron_tagger')\n",
    "nltk.download('tagsets')\n"
   ]
  },
  {
   "cell_type": "code",
   "execution_count": 12,
   "id": "8ea52aee-3f18-45c1-93c9-31274a555535",
   "metadata": {},
   "outputs": [
    {
     "name": "stdout",
     "output_type": "stream",
     "text": [
      "                                        text_wo_stop  \\\n",
      "0  looking hire experts flutter developer eligibl...   \n",
      "1  pythondjango developerlead job codepdj 04 stro...   \n",
      "2  data scientist contractor bangalore responsibi...   \n",
      "3  job description strong framework outside ios a...   \n",
      "4  job responsibility full stack engineer – react...   \n",
      "\n",
      "                                    text_wo_stoprare  \n",
      "0  looking hire experts flutter developer eligibl...  \n",
      "1  pythondjango job 04 strong python experience a...  \n",
      "2  data scientist contractor bangalore responsibi...  \n",
      "3  job description strong framework outside ios a...  \n",
      "4  job responsibility full stack engineer – react...  \n"
     ]
    }
   ],
   "source": [
    "# Define whitelist of important words to keep\n",
    "whitelist = {\"flutter\", \"django\", \"react\", \"python\", \"contractor\", \"engineer\", \"kubernetes\", \"aws\", \"hadoop\"}\n",
    "\n",
    "# Assume RAREWORDS is already defined as a set of rare words\n",
    "def remove_rarewords_with_whitelist(text):\n",
    "    return \" \".join([word for word in str(text).split() if (word not in RAREWORDS or word in whitelist)])\n",
    "\n",
    "# Apply the function\n",
    "df[\"text_wo_stoprare\"] = df[\"text_wo_stop\"].apply(remove_rarewords_with_whitelist)\n",
    "\n",
    "# Verify results\n",
    "print(df[[\"text_wo_stop\", \"text_wo_stoprare\"]].head())\n"
   ]
  },
  {
   "cell_type": "code",
   "execution_count": 13,
   "id": "f8e9fc19-4fed-4553-93b5-986f530cad0a",
   "metadata": {},
   "outputs": [
    {
     "name": "stdout",
     "output_type": "stream",
     "text": [
      "Index(['Unnamed: 0', 'Job Title', 'Job Description', 'text_lower_JD',\n",
      "       'text_wo_punct', 'text_wo_stop', 'text_wo_stopfreq',\n",
      "       'text_wo_stoprare'],\n",
      "      dtype='object')\n"
     ]
    }
   ],
   "source": [
    "print(df.columns)\n"
   ]
  },
  {
   "cell_type": "code",
   "execution_count": 14,
   "id": "e3df96c2-225e-4b0f-b9bd-b7a2c0c62b90",
   "metadata": {},
   "outputs": [
    {
     "name": "stderr",
     "output_type": "stream",
     "text": [
      "[nltk_data] Downloading package averaged_perceptron_tagger to\n",
      "[nltk_data]     C:\\Users\\prana/nltk_data...\n",
      "[nltk_data]   Package averaged_perceptron_tagger is already up-to-\n",
      "[nltk_data]       date!\n",
      "[nltk_data] Downloading package wordnet to C:\\Users\\prana/nltk_data...\n",
      "[nltk_data]   Package wordnet is already up-to-date!\n",
      "[nltk_data] Downloading package omw-1.4 to C:\\Users\\prana/nltk_data...\n",
      "[nltk_data]   Package omw-1.4 is already up-to-date!\n"
     ]
    },
    {
     "data": {
      "text/plain": [
       "True"
      ]
     },
     "execution_count": 14,
     "metadata": {},
     "output_type": "execute_result"
    }
   ],
   "source": [
    "import nltk\n",
    "nltk.download('averaged_perceptron_tagger')  # Correct POS tagger resource\n",
    "nltk.download('wordnet')\n",
    "nltk.download('omw-1.4')\n"
   ]
  },
  {
   "cell_type": "code",
   "execution_count": 15,
   "id": "89c3c263-2c34-491d-a583-6cad10e539d6",
   "metadata": {},
   "outputs": [
    {
     "name": "stdout",
     "output_type": "stream",
     "text": [
      "                                    text_wo_stoprare  \\\n",
      "0  looking hire experts flutter developer eligibl...   \n",
      "1  pythondjango job 04 strong python experience a...   \n",
      "2  data scientist contractor bangalore responsibi...   \n",
      "3  job description strong framework outside ios a...   \n",
      "4  job responsibility full stack engineer – react...   \n",
      "\n",
      "                                     text_lemmatized  \n",
      "0  looking hire expert flutter developer eligible...  \n",
      "1  pythondjango job 04 strong python experience a...  \n",
      "2  data scientist contractor bangalore responsibi...  \n",
      "3  job description strong framework outside io al...  \n",
      "4  job responsibility full stack engineer – react...  \n"
     ]
    }
   ],
   "source": [
    "from nltk.stem import WordNetLemmatizer\n",
    "lemmatizer = WordNetLemmatizer()\n",
    "\n",
    "def lemmatize_words(text):\n",
    "    return \" \".join([lemmatizer.lemmatize(word) for word in str(text).split()])\n",
    "\n",
    "df[\"text_lemmatized\"] = df[\"text_wo_stoprare\"].apply(lemmatize_words)\n",
    "print(df[[\"text_wo_stoprare\", \"text_lemmatized\"]].head())\n"
   ]
  },
  {
   "cell_type": "code",
   "execution_count": 16,
   "id": "0ddac76c-384f-42b6-a397-04da207599d7",
   "metadata": {
    "scrolled": true
   },
   "outputs": [
    {
     "name": "stdout",
     "output_type": "stream",
     "text": [
      "['C:\\\\Users\\\\prana/nltk_data', 'C:\\\\Users\\\\prana\\\\anaconda3\\\\nltk_data', 'C:\\\\Users\\\\prana\\\\anaconda3\\\\share\\\\nltk_data', 'C:\\\\Users\\\\prana\\\\anaconda3\\\\lib\\\\nltk_data', 'C:\\\\Users\\\\prana\\\\AppData\\\\Roaming\\\\nltk_data', 'C:\\\\nltk_data', 'D:\\\\nltk_data', 'E:\\\\nltk_data']\n"
     ]
    }
   ],
   "source": [
    "import nltk\n",
    "print(nltk.data.path)\n"
   ]
  },
  {
   "cell_type": "code",
   "execution_count": 19,
   "id": "f8e7f3a9-6bab-4949-bd4f-87f592ab0396",
   "metadata": {},
   "outputs": [
    {
     "name": "stderr",
     "output_type": "stream",
     "text": [
      "[nltk_data] Downloading package averaged_perceptron_tagger_eng to\n",
      "[nltk_data]     C:\\Users\\prana/nltk_data...\n",
      "[nltk_data]   Unzipping taggers\\averaged_perceptron_tagger_eng.zip.\n",
      "[nltk_data] Downloading package wordnet to C:\\Users\\prana/nltk_data...\n",
      "[nltk_data]   Package wordnet is already up-to-date!\n"
     ]
    },
    {
     "data": {
      "text/html": [
       "<div>\n",
       "<style scoped>\n",
       "    .dataframe tbody tr th:only-of-type {\n",
       "        vertical-align: middle;\n",
       "    }\n",
       "\n",
       "    .dataframe tbody tr th {\n",
       "        vertical-align: top;\n",
       "    }\n",
       "\n",
       "    .dataframe thead th {\n",
       "        text-align: right;\n",
       "    }\n",
       "</style>\n",
       "<table border=\"1\" class=\"dataframe\">\n",
       "  <thead>\n",
       "    <tr style=\"text-align: right;\">\n",
       "      <th></th>\n",
       "      <th>Unnamed: 0</th>\n",
       "      <th>Job Title</th>\n",
       "      <th>Job Description</th>\n",
       "      <th>text_lower_JD</th>\n",
       "      <th>text_wo_punct</th>\n",
       "      <th>text_wo_stop</th>\n",
       "      <th>text_wo_stopfreq</th>\n",
       "      <th>text_wo_stoprare</th>\n",
       "      <th>text_lemmatized</th>\n",
       "      <th>text_lemmatized_2</th>\n",
       "    </tr>\n",
       "  </thead>\n",
       "  <tbody>\n",
       "    <tr>\n",
       "      <th>0</th>\n",
       "      <td>0</td>\n",
       "      <td>Flutter Developer</td>\n",
       "      <td>We are looking for hire experts flutter develo...</td>\n",
       "      <td>we are looking for hire experts flutter develo...</td>\n",
       "      <td>we are looking for hire experts flutter develo...</td>\n",
       "      <td>looking hire experts flutter developer eligibl...</td>\n",
       "      <td>looking hire experts flutter developer eligibl...</td>\n",
       "      <td>looking hire experts flutter developer eligibl...</td>\n",
       "      <td>looking hire expert flutter developer eligible...</td>\n",
       "      <td>look hire expert flutter developer eligible po...</td>\n",
       "    </tr>\n",
       "    <tr>\n",
       "      <th>1</th>\n",
       "      <td>1</td>\n",
       "      <td>Django Developer</td>\n",
       "      <td>PYTHON/DJANGO (Developer/Lead) - Job Code(PDJ ...</td>\n",
       "      <td>python/django (developer/lead) - job code(pdj ...</td>\n",
       "      <td>pythondjango developerlead  job codepdj  04\\ns...</td>\n",
       "      <td>pythondjango developerlead job codepdj 04 stro...</td>\n",
       "      <td>pythondjango developerlead job codepdj 04 stro...</td>\n",
       "      <td>pythondjango job 04 strong python experience a...</td>\n",
       "      <td>pythondjango job 04 strong python experience a...</td>\n",
       "      <td>pythondjango job 04 strong python experience a...</td>\n",
       "    </tr>\n",
       "    <tr>\n",
       "      <th>2</th>\n",
       "      <td>2</td>\n",
       "      <td>Machine Learning</td>\n",
       "      <td>Data Scientist (Contractor)\\n\\nBangalore, IN\\n...</td>\n",
       "      <td>data scientist (contractor)\\n\\nbangalore, in\\n...</td>\n",
       "      <td>data scientist contractor\\n\\nbangalore in\\n\\nr...</td>\n",
       "      <td>data scientist contractor bangalore responsibi...</td>\n",
       "      <td>scientist contractor bangalore responsibilitie...</td>\n",
       "      <td>data scientist contractor bangalore responsibi...</td>\n",
       "      <td>data scientist contractor bangalore responsibi...</td>\n",
       "      <td>data scientist contractor bangalore responsibi...</td>\n",
       "    </tr>\n",
       "    <tr>\n",
       "      <th>3</th>\n",
       "      <td>3</td>\n",
       "      <td>iOS Developer</td>\n",
       "      <td>JOB DESCRIPTION:\\n\\nStrong framework outside o...</td>\n",
       "      <td>job description:\\n\\nstrong framework outside o...</td>\n",
       "      <td>job description\\n\\nstrong framework outside of...</td>\n",
       "      <td>job description strong framework outside ios a...</td>\n",
       "      <td>job description strong framework outside ios a...</td>\n",
       "      <td>job description strong framework outside ios a...</td>\n",
       "      <td>job description strong framework outside io al...</td>\n",
       "      <td>job description strong framework outside io al...</td>\n",
       "    </tr>\n",
       "    <tr>\n",
       "      <th>4</th>\n",
       "      <td>4</td>\n",
       "      <td>Full Stack Developer</td>\n",
       "      <td>job responsibility full stack engineer – react...</td>\n",
       "      <td>job responsibility full stack engineer – react...</td>\n",
       "      <td>job responsibility full stack engineer – react...</td>\n",
       "      <td>job responsibility full stack engineer – react...</td>\n",
       "      <td>job responsibility full stack engineer – react...</td>\n",
       "      <td>job responsibility full stack engineer – react...</td>\n",
       "      <td>job responsibility full stack engineer – react...</td>\n",
       "      <td>job responsibility full stack engineer – react...</td>\n",
       "    </tr>\n",
       "  </tbody>\n",
       "</table>\n",
       "</div>"
      ],
      "text/plain": [
       "   Unnamed: 0             Job Title  \\\n",
       "0           0     Flutter Developer   \n",
       "1           1      Django Developer   \n",
       "2           2      Machine Learning   \n",
       "3           3         iOS Developer   \n",
       "4           4  Full Stack Developer   \n",
       "\n",
       "                                     Job Description  \\\n",
       "0  We are looking for hire experts flutter develo...   \n",
       "1  PYTHON/DJANGO (Developer/Lead) - Job Code(PDJ ...   \n",
       "2  Data Scientist (Contractor)\\n\\nBangalore, IN\\n...   \n",
       "3  JOB DESCRIPTION:\\n\\nStrong framework outside o...   \n",
       "4  job responsibility full stack engineer – react...   \n",
       "\n",
       "                                       text_lower_JD  \\\n",
       "0  we are looking for hire experts flutter develo...   \n",
       "1  python/django (developer/lead) - job code(pdj ...   \n",
       "2  data scientist (contractor)\\n\\nbangalore, in\\n...   \n",
       "3  job description:\\n\\nstrong framework outside o...   \n",
       "4  job responsibility full stack engineer – react...   \n",
       "\n",
       "                                       text_wo_punct  \\\n",
       "0  we are looking for hire experts flutter develo...   \n",
       "1  pythondjango developerlead  job codepdj  04\\ns...   \n",
       "2  data scientist contractor\\n\\nbangalore in\\n\\nr...   \n",
       "3  job description\\n\\nstrong framework outside of...   \n",
       "4  job responsibility full stack engineer – react...   \n",
       "\n",
       "                                        text_wo_stop  \\\n",
       "0  looking hire experts flutter developer eligibl...   \n",
       "1  pythondjango developerlead job codepdj 04 stro...   \n",
       "2  data scientist contractor bangalore responsibi...   \n",
       "3  job description strong framework outside ios a...   \n",
       "4  job responsibility full stack engineer – react...   \n",
       "\n",
       "                                    text_wo_stopfreq  \\\n",
       "0  looking hire experts flutter developer eligibl...   \n",
       "1  pythondjango developerlead job codepdj 04 stro...   \n",
       "2  scientist contractor bangalore responsibilitie...   \n",
       "3  job description strong framework outside ios a...   \n",
       "4  job responsibility full stack engineer – react...   \n",
       "\n",
       "                                    text_wo_stoprare  \\\n",
       "0  looking hire experts flutter developer eligibl...   \n",
       "1  pythondjango job 04 strong python experience a...   \n",
       "2  data scientist contractor bangalore responsibi...   \n",
       "3  job description strong framework outside ios a...   \n",
       "4  job responsibility full stack engineer – react...   \n",
       "\n",
       "                                     text_lemmatized  \\\n",
       "0  looking hire expert flutter developer eligible...   \n",
       "1  pythondjango job 04 strong python experience a...   \n",
       "2  data scientist contractor bangalore responsibi...   \n",
       "3  job description strong framework outside io al...   \n",
       "4  job responsibility full stack engineer – react...   \n",
       "\n",
       "                                   text_lemmatized_2  \n",
       "0  look hire expert flutter developer eligible po...  \n",
       "1  pythondjango job 04 strong python experience a...  \n",
       "2  data scientist contractor bangalore responsibi...  \n",
       "3  job description strong framework outside io al...  \n",
       "4  job responsibility full stack engineer – react...  "
      ]
     },
     "execution_count": 19,
     "metadata": {},
     "output_type": "execute_result"
    }
   ],
   "source": [
    "# First, download the required NLTK resources\n",
    "import nltk\n",
    "nltk.download('averaged_perceptron_tagger_eng')  # Correct resource name (without _eng)\n",
    "nltk.download('wordnet')  # Also download wordnet if not already downloaded\n",
    "\n",
    "# Now the original code should work\n",
    "from nltk.corpus import wordnet\n",
    "from nltk.stem import WordNetLemmatizer\n",
    "\n",
    "lemmatizer = WordNetLemmatizer()\n",
    "wordnet_map = {\"N\":wordnet.NOUN, \"V\":wordnet.VERB, \"J\":wordnet.ADJ, \"R\":wordnet.ADV}\n",
    "def lemmatize_words(text):\n",
    "    pos_tagged_text = nltk.pos_tag(text.split())  # This will now work with the downloaded resource\n",
    "    return \" \".join([lemmatizer.lemmatize(word, wordnet_map.get(pos[0], wordnet.NOUN)) for word, pos in pos_tagged_text])\n",
    "\n",
    "df[\"text_lemmatized_2\"] = df[\"text_wo_stoprare\"].apply(lambda text: lemmatize_words(text))\n",
    "df.head()"
   ]
  },
  {
   "cell_type": "code",
   "execution_count": 20,
   "id": "5b311510-21ee-4913-b9fe-1f47acd67425",
   "metadata": {},
   "outputs": [],
   "source": [
    "df.to_csv('your_dataset_lemmatized.csv', index=False)\n"
   ]
  },
  {
   "cell_type": "code",
   "execution_count": 21,
   "id": "569c0d01-55df-45b8-af7d-b0f96afb0e41",
   "metadata": {},
   "outputs": [],
   "source": [
    "from unidecode import unidecode\n",
    "\n",
    "df['text_lemmatized_clean'] = df['text_lemmatized'].apply(lambda x: unidecode(str(x)))\n"
   ]
  },
  {
   "cell_type": "code",
   "execution_count": 22,
   "id": "c3ae1889-3dcd-4ea7-a26e-ce71bf14922b",
   "metadata": {},
   "outputs": [],
   "source": [
    "df.to_csv('your_dataset_lemmatized.csv', index=False)\n"
   ]
  },
  {
   "cell_type": "code",
   "execution_count": 23,
   "id": "2d4766ab-8911-4ead-8f81-e65c844bf1e1",
   "metadata": {},
   "outputs": [
    {
     "name": "stdout",
     "output_type": "stream",
     "text": [
      "                                     text_lemmatized  \\\n",
      "0  looking hire expert flutter developer eligible...   \n",
      "1  pythondjango job 04 strong python experience a...   \n",
      "2  data scientist contractor bangalore responsibi...   \n",
      "3  job description strong framework outside io al...   \n",
      "4  job responsibility full stack engineer – react...   \n",
      "\n",
      "                                        text_cleaned  \n",
      "0  looking hire expert flutter developer eligible...  \n",
      "1  pythondjango job 04 strong python experience a...  \n",
      "2  data scientist contractor bangalore responsibi...  \n",
      "3  job description strong framework outside io al...  \n",
      "4  job responsibility full stack engineer react r...  \n"
     ]
    }
   ],
   "source": [
    "import re\n",
    "\n",
    "def clean_text(text):\n",
    "    text = str(text)\n",
    "    # Remove special characters except apostrophes or keep only letters and spaces\n",
    "    text = re.sub(r\"[^a-zA-Z0-9\\s']\", '', text)  \n",
    "    # Replace multiple spaces with a single space\n",
    "    text = re.sub(r'\\s+', ' ', text)  \n",
    "    # Strip leading/trailing whitespace\n",
    "    text = text.strip()\n",
    "    return text\n",
    "\n",
    "df['text_cleaned'] = df['text_lemmatized'].apply(clean_text)\n",
    "\n",
    "print(df[['text_lemmatized', 'text_cleaned']].head())\n"
   ]
  },
  {
   "cell_type": "code",
   "execution_count": 24,
   "id": "94af0363-77f9-4a0b-81de-7ba5b46e5245",
   "metadata": {},
   "outputs": [],
   "source": [
    "df.to_csv('your_dataset_lemmatized.csv', index=False)"
   ]
  },
  {
   "cell_type": "code",
   "execution_count": null,
   "id": "254ba94a-1ef2-4164-ada0-4c07bb42c0b5",
   "metadata": {},
   "outputs": [],
   "source": []
  }
 ],
 "metadata": {
  "kernelspec": {
   "display_name": "Python [conda env:base] *",
   "language": "python",
   "name": "conda-base-py"
  },
  "language_info": {
   "codemirror_mode": {
    "name": "ipython",
    "version": 3
   },
   "file_extension": ".py",
   "mimetype": "text/x-python",
   "name": "python",
   "nbconvert_exporter": "python",
   "pygments_lexer": "ipython3",
   "version": "3.12.7"
  }
 },
 "nbformat": 4,
 "nbformat_minor": 5
}
