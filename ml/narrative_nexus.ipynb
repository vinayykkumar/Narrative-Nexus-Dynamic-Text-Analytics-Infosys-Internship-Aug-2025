{
 "cells": [
  {
   "cell_type": "markdown",
   "id": "3ab22dbb",
   "metadata": {},
   "source": [
    "# NarrativeNexus: Text Preprocessing Pipeline\n",
    "\n",
    "**Objective:** Clean, normalize, and tokenize BBC News, CNN/DailyMail, and IMDB datasets for NLP tasks.\n",
    "\n",
    "**Pipeline:** Text Cleaning → Normalization → Tokenization"
   ]
  },
  {
   "cell_type": "code",
   "execution_count": 1,
   "id": "18aec7d5",
   "metadata": {},
   "outputs": [
    {
     "name": "stdout",
     "output_type": "stream",
     "text": [
      "✅ Setup complete\n"
     ]
    }
   ],
   "source": [
    "# Essential imports\n",
    "import pandas as pd\n",
    "import numpy as np\n",
    "import re\n",
    "import nltk\n",
    "from nltk.corpus import stopwords\n",
    "from nltk.tokenize import word_tokenize\n",
    "from nltk.stem import PorterStemmer, WordNetLemmatizer\n",
    "from nltk.tag import pos_tag\n",
    "from sklearn.feature_extraction.text import TfidfVectorizer\n",
    "from collections import Counter\n",
    "from tqdm import tqdm\n",
    "import warnings\n",
    "warnings.filterwarnings('ignore')\n",
    "tqdm.pandas()\n",
    "\n",
    "# Download NLTK data\n",
    "for item in ['punkt', 'stopwords', 'wordnet', 'averaged_perceptron_tagger']:\n",
    "    nltk.download(item, quiet=True)\n",
    "\n",
    "# Initialize tools\n",
    "stop_words = set(stopwords.words('english'))\n",
    "stemmer = PorterStemmer()\n",
    "lemmatizer = WordNetLemmatizer()\n",
    "\n",
    "print(\"✅ Setup complete\")"
   ]
  },
  {
   "cell_type": "code",
   "execution_count": 2,
   "id": "5c3e2982",
   "metadata": {},
   "outputs": [
    {
     "name": "stdout",
     "output_type": "stream",
     "text": [
      "✅ Functions defined\n"
     ]
    }
   ],
   "source": [
    "# Core preprocessing functions\n",
    "def clean_text(text):\n",
    "    \"\"\"Clean text: lowercase, remove special chars, remove stop words\"\"\"\n",
    "    if pd.isna(text):\n",
    "        return \"\"\n",
    "    \n",
    "    # Clean and tokenize\n",
    "    text = re.sub(r'[^\\w\\s]', ' ', str(text).lower())\n",
    "    tokens = word_tokenize(text)\n",
    "    \n",
    "    # Remove stop words (keep negations)\n",
    "    keep_words = {'not', 'no', 'never'}\n",
    "    filtered_stops = stop_words - keep_words\n",
    "    tokens = [word for word in tokens if word not in filtered_stops and word.isalpha()]\n",
    "    \n",
    "    return ' '.join(tokens)\n",
    "\n",
    "def lemmatize_text(text):\n",
    "    \"\"\"Lemmatize text with POS tagging\"\"\"\n",
    "    if pd.isna(text) or text == \"\":\n",
    "        return \"\"\n",
    "    \n",
    "    tokens = word_tokenize(str(text))\n",
    "    pos_tags = pos_tag(tokens)\n",
    "    \n",
    "    # Convert POS tags for lemmatizer\n",
    "    def get_pos(tag):\n",
    "        if tag.startswith('V'): return 'v'\n",
    "        elif tag.startswith('N'): return 'n'\n",
    "        elif tag.startswith('R'): return 'r'\n",
    "        elif tag.startswith('J'): return 'a'\n",
    "        return 'n'\n",
    "    \n",
    "    lemmatized = [lemmatizer.lemmatize(word, get_pos(pos)) for word, pos in pos_tags]\n",
    "    return ' '.join(lemmatized)\n",
    "\n",
    "def tokenize_text(text):\n",
    "    \"\"\"Simple word tokenization\"\"\"\n",
    "    if pd.isna(text) or text == \"\":\n",
    "        return []\n",
    "    return word_tokenize(str(text))\n",
    "\n",
    "print(\"✅ Functions defined\")"
   ]
  },
  {
   "cell_type": "code",
   "execution_count": 3,
   "id": "7dc7cd1c",
   "metadata": {},
   "outputs": [
    {
     "name": "stdout",
     "output_type": "stream",
     "text": [
      "📂 Loading datasets...\n",
      "✅ BBC: 2,225 documents\n",
      "✅ CNN: 5,000 documents\n",
      "✅ IMDB: 1,000 documents\n",
      "\n",
      "📊 Total: 8,225 documents\n"
     ]
    }
   ],
   "source": [
    "# Load datasets\n",
    "print(\"📂 Loading datasets...\")\n",
    "\n",
    "datasets = {}\n",
    "try:\n",
    "    datasets['BBC'] = pd.read_csv(\"../data/bbc-text.csv\")\n",
    "    datasets['CNN'] = pd.read_csv(\"../data/cnn_dailymail.csv\")\n",
    "    datasets['IMDB'] = pd.read_csv(\"../data/imdb-dataset.csv\", nrows=1000)\n",
    "    \n",
    "    for name, df in datasets.items():\n",
    "        print(f\"✅ {name}: {len(df):,} documents\")\n",
    "        \n",
    "except Exception as e:\n",
    "    print(f\"❌ Error: {e}\")\n",
    "\n",
    "print(f\"\\n📊 Total: {sum(len(df) for df in datasets.values()):,} documents\")"
   ]
  },
  {
   "cell_type": "code",
   "execution_count": 4,
   "id": "96b51155",
   "metadata": {},
   "outputs": [
    {
     "name": "stdout",
     "output_type": "stream",
     "text": [
      "🔄 Processing datasets...\n",
      "\n",
      "Processing BBC...\n"
     ]
    },
    {
     "name": "stderr",
     "output_type": "stream",
     "text": [
      "  0%|          | 0/2225 [00:00<?, ?it/s]"
     ]
    },
    {
     "name": "stderr",
     "output_type": "stream",
     "text": [
      "100%|██████████| 2225/2225 [00:03<00:00, 604.33it/s]\n",
      "100%|██████████| 2225/2225 [00:26<00:00, 85.35it/s] \n"
     ]
    },
    {
     "name": "stdout",
     "output_type": "stream",
     "text": [
      "  ✅ Avg tokens: 220, Vocabulary: 23,122\n",
      "\n",
      "Processing CNN...\n"
     ]
    },
    {
     "name": "stderr",
     "output_type": "stream",
     "text": [
      "100%|██████████| 5000/5000 [00:06<00:00, 832.47it/s]\n",
      "100%|██████████| 5000/5000 [01:18<00:00, 63.36it/s]\n"
     ]
    },
    {
     "name": "stdout",
     "output_type": "stream",
     "text": [
      "  ✅ Avg tokens: 345, Vocabulary: 59,444\n",
      "\n",
      "Processing IMDB...\n"
     ]
    },
    {
     "name": "stderr",
     "output_type": "stream",
     "text": [
      "100%|██████████| 1000/1000 [00:00<00:00, 1379.60it/s]\n",
      "100%|██████████| 1000/1000 [00:05<00:00, 182.45it/s]\n"
     ]
    },
    {
     "name": "stdout",
     "output_type": "stream",
     "text": [
      "  ✅ Avg tokens: 124, Vocabulary: 14,619\n",
      "\n",
      "✅ All datasets processed\n"
     ]
    }
   ],
   "source": [
    "# Process all datasets\n",
    "print(\"🔄 Processing datasets...\\n\")\n",
    "\n",
    "processed = {}\n",
    "\n",
    "for name, df in datasets.items():\n",
    "    print(f\"Processing {name}...\")\n",
    "    \n",
    "    # Get text column\n",
    "    text_col = 'review' if name == 'IMDB' else ('article' if 'article' in df.columns else 'text')\n",
    "    \n",
    "    # Apply pipeline\n",
    "    df_processed = df.copy()\n",
    "    df_processed['cleaned'] = df[text_col].progress_apply(clean_text)\n",
    "    df_processed['lemmatized'] = df_processed['cleaned'].progress_apply(lemmatize_text)\n",
    "    df_processed['tokens'] = df_processed['lemmatized'].apply(tokenize_text)\n",
    "    df_processed['token_count'] = df_processed['tokens'].apply(len)\n",
    "    \n",
    "    # Stats\n",
    "    avg_tokens = df_processed['token_count'].mean()\n",
    "    vocab_size = len(set([token for tokens in df_processed['tokens'] for token in tokens]))\n",
    "    \n",
    "    print(f\"  ✅ Avg tokens: {avg_tokens:.0f}, Vocabulary: {vocab_size:,}\\n\")\n",
    "    \n",
    "    processed[name] = df_processed\n",
    "\n",
    "print(\"✅ All datasets processed\")"
   ]
  },
  {
   "cell_type": "code",
   "execution_count": null,
   "id": "edae82b5",
   "metadata": {},
   "outputs": [
    {
     "name": "stdout",
     "output_type": "stream",
     "text": [
      "📋 PREPROCESSING SUMMARY\n",
      "========================================\n",
      "\n",
      "BBC:\n",
      "  • Documents: 2,225\n",
      "  • Avg tokens: 220\n",
      "  • Vocabulary: 23,122\n",
      "  • Status: ✅ Preprocessed\n",
      "\n",
      "CNN:\n",
      "  • Documents: 5,000\n",
      "  • Avg tokens: 345\n",
      "  • Vocabulary: 59,444\n",
      "  • Status: ✅ Preprocessed\n",
      "\n",
      "IMDB:\n",
      "  • Documents: 1,000\n",
      "  • Avg tokens: 124\n",
      "  • Vocabulary: 14,619\n",
      "  • Status: ✅ Preprocessed\n",
      "\n",
      "🎯 TOTALS:\n",
      "  • Total documents: 8,225\n",
      "  • Total vocabulary: 69,131\n",
      "  • Ready for: Week 3 Topic Modeling\n",
      "\n",
      "CNN:\n",
      "  • Documents: 5,000\n",
      "  • Avg tokens: 345\n",
      "  • Vocabulary: 59,444\n",
      "  • Status: ✅ Preprocessed\n",
      "\n",
      "IMDB:\n",
      "  • Documents: 1,000\n",
      "  • Avg tokens: 124\n",
      "  • Vocabulary: 14,619\n",
      "  • Status: ✅ Preprocessed\n",
      "\n",
      "🎯 TOTALS:\n",
      "  • Total documents: 8,225\n",
      "  • Total vocabulary: 69,131\n",
      "  • Ready for: Week 3 Topic Modeling\n"
     ]
    }
   ],
   "source": [
    "# Summary and export\n",
    "print(\"📋 PREPROCESSING SUMMARY\")\n",
    "print(\"=\" * 40)\n",
    "\n",
    "total_docs = 0\n",
    "total_vocab = set()\n",
    "\n",
    "for name, df in processed.items():\n",
    "    docs = len(df)\n",
    "    avg_tokens = df['token_count'].mean()\n",
    "    vocab = set([token for tokens in df['tokens'] for token in tokens])\n",
    "    \n",
    "    total_docs += docs\n",
    "    total_vocab.update(vocab)\n",
    "    \n",
    "    print(f\"\\n{name}:\")\n",
    "    print(f\"  • Documents: {docs:,}\")\n",
    "    print(f\"  • Avg tokens: {avg_tokens:.0f}\")\n",
    "    print(f\"  • Vocabulary: {len(vocab):,}\")\n",
    "    print(f\"  • Status: ✅ Preprocessed\")\n",
    "\n",
    "print(f\"\\n🎯 TOTALS:\")\n",
    "print(f\"  • Total documents: {total_docs:,}\")\n",
    "print(f\"  • Total vocabulary: {len(total_vocab):,}\")\n",
    "print(f\"  • Ready for: Week 3 Topic Modeling\")\n",
    "\n",
    "# Quick export\n",
    "import os\n",
    "os.makedirs(\"../data/final\", exist_ok=True)\n",
    "\n",
    "for name, df in processed.items():\n",
    "    # Keep only essential columns for Week 2 completion\n",
    "    export_df = df[['cleaned', 'lemmatized', 'tokens', 'token_count']].copy()\n",
    "    export_df.to_csv(f\"../data/final/{name.lower()}.csv\", index=False)\n"
   ]
  }
 ],
 "metadata": {
  "kernelspec": {
   "display_name": ".venv",
   "language": "python",
   "name": "python3"
  },
  "language_info": {
   "codemirror_mode": {
    "name": "ipython",
    "version": 3
   },
   "file_extension": ".py",
   "mimetype": "text/x-python",
   "name": "python",
   "nbconvert_exporter": "python",
   "pygments_lexer": "ipython3",
   "version": "3.10.11"
  }
 },
 "nbformat": 4,
 "nbformat_minor": 5
}
